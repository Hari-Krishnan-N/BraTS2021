{
 "cells": [
  {
   "cell_type": "code",
   "execution_count": 9,
   "metadata": {},
   "outputs": [],
   "source": [
    "import os \n",
    "import gzip \n",
    "import shutil \n",
    "from tqdm import tqdm \n",
    "import random "
   ]
  },
  {
   "cell_type": "code",
   "execution_count": 10,
   "metadata": {},
   "outputs": [
    {
     "name": "stderr",
     "output_type": "stream",
     "text": [
      "100%|██████████| 1253/1253 [00:00<00:00, 6525.89it/s]\n"
     ]
    }
   ],
   "source": [
    "# Rename directories\n",
    "\n",
    "root_dir = 'Processed Data'\n",
    "\n",
    "for patient in tqdm(os.listdir(root_dir)):\n",
    "    old_path = os.path.join(root_dir, patient)\n",
    "    if os.path.isdir(old_path):\n",
    "        new_path = os.path.join(root_dir, patient[-5:])\n",
    "        os.rename(old_path, new_path)"
   ]
  },
  {
   "cell_type": "code",
   "execution_count": 11,
   "metadata": {},
   "outputs": [],
   "source": [
    "# Renaming files \n",
    "\n",
    "root_dir = 'Processed Data'\n",
    "\n",
    "for patient in os.listdir(root_dir):\n",
    "    for file in os.listdir(os.path.join(root_dir, patient)):\n",
    "        old_path = os.path.join(root_dir, patient, file)\n",
    "        new_path = os.path.join(root_dir, patient, file)\n",
    "        os.rename(old_path, new_path)"
   ]
  },
  {
   "cell_type": "code",
   "execution_count": 12,
   "metadata": {},
   "outputs": [
    {
     "data": {
      "text/plain": [
       "(1127, 126)"
      ]
     },
     "execution_count": 12,
     "metadata": {},
     "output_type": "execute_result"
    }
   ],
   "source": [
    "# Splitting into train and test \n",
    "\n",
    "root_dir = 'Processed Data'\n",
    "patients = os.listdir(root_dir)\n",
    "n = len(patients)\n",
    " \n",
    "train_size = int(0.9*n) \n",
    "test_size = n - train_size\n",
    "\n",
    "train_size, test_size"
   ]
  },
  {
   "cell_type": "code",
   "execution_count": 17,
   "metadata": {},
   "outputs": [],
   "source": [
    "# Moving directories \n",
    "\n",
    "test_patients = random.sample(patients, test_size)\n",
    "\n",
    "for i in test_patients:\n",
    "    in_path = os.path.join(root_dir, i)\n",
    "    out_path = os.path.join(root_dir, 'Test', i)\n",
    "    shutil.move(in_path, out_path)"
   ]
  }
 ],
 "metadata": {
  "kernelspec": {
   "display_name": "TorchEnv2",
   "language": "python",
   "name": "python3"
  },
  "language_info": {
   "codemirror_mode": {
    "name": "ipython",
    "version": 3
   },
   "file_extension": ".py",
   "mimetype": "text/x-python",
   "name": "python",
   "nbconvert_exporter": "python",
   "pygments_lexer": "ipython3",
   "version": "3.12.3"
  }
 },
 "nbformat": 4,
 "nbformat_minor": 2
}
